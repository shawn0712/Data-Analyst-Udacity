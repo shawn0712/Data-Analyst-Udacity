{
 "cells": [
  {
   "cell_type": "markdown",
   "metadata": {},
   "source": [
    "\n",
    "# Project: Investigate a Dataset (What features is correlated to no-show appointments)\n",
    "\n",
    "## Table of Contents\n",
    "<ul>\n",
    "<li><a href=\"#intro\">Introduction</a></li>\n",
    "<li><a href=\"#wrangling\">Data Wrangling</a></li>\n",
    "<li><a href=\"#eda\">Exploratory Data Analysis</a></li>\n",
    "<li><a href=\"#conclusions\">Conclusions</a></li>\n",
    "</ul>"
   ]
  },
  {
   "cell_type": "markdown",
   "metadata": {},
   "source": [
    "<a id='intro'></a>\n",
    "## Introduction\n",
    "**Brief**:\n",
    "\n",
    "In this project, I am trying to investigate the [No-show appointments] Dataset, this dataset collects information from 100k medical appointments in Brazil, and it records whether a patient shows up for his/her medical appointment or not, and it also collects different features such as a patient's gender, age, what day the patient set up the appointments, the location of the hospital, whether or not the patient is enrolled in welfare program, and some other features.\n",
    "\n",
    "I am trying to know what features is correlated to a patient's decision to show up for a medical appointment, specifically, I want to access whether age, gender, work day of their appointment, and the interval between appointment day and the day they schedule the appointment are related to the show up of medical appointments.\n"
   ]
  },
  {
   "cell_type": "code",
   "execution_count": 620,
   "metadata": {},
   "outputs": [],
   "source": [
    "\n",
    "import pandas as pd\n",
    "import numpy as np\n",
    "import matplotlib.pyplot as plt\n",
    "import seaborn as sns\n",
    "sns.set_style('darkgrid')\n",
    "%matplotlib inline\n",
    "# First, I import all packages I plan to use, if there is any package I didn't import here, I will do that later\n"
   ]
  },
  {
   "cell_type": "markdown",
   "metadata": {},
   "source": [
    "<a id='wrangling'></a>\n",
    "## Data Wrangling"
   ]
  },
  {
   "cell_type": "code",
   "execution_count": 621,
   "metadata": {},
   "outputs": [
    {
     "data": {
      "text/html": [
       "<div>\n",
       "<style>\n",
       "    .dataframe thead tr:only-child th {\n",
       "        text-align: right;\n",
       "    }\n",
       "\n",
       "    .dataframe thead th {\n",
       "        text-align: left;\n",
       "    }\n",
       "\n",
       "    .dataframe tbody tr th {\n",
       "        vertical-align: top;\n",
       "    }\n",
       "</style>\n",
       "<table border=\"1\" class=\"dataframe\">\n",
       "  <thead>\n",
       "    <tr style=\"text-align: right;\">\n",
       "      <th></th>\n",
       "      <th>PatientId</th>\n",
       "      <th>AppointmentID</th>\n",
       "      <th>Gender</th>\n",
       "      <th>ScheduledDay</th>\n",
       "      <th>AppointmentDay</th>\n",
       "      <th>Age</th>\n",
       "      <th>Neighbourhood</th>\n",
       "      <th>Scholarship</th>\n",
       "      <th>Hipertension</th>\n",
       "      <th>Diabetes</th>\n",
       "      <th>Alcoholism</th>\n",
       "      <th>Handcap</th>\n",
       "      <th>SMS_received</th>\n",
       "      <th>No-show</th>\n",
       "    </tr>\n",
       "  </thead>\n",
       "  <tbody>\n",
       "    <tr>\n",
       "      <th>0</th>\n",
       "      <td>2.987250e+13</td>\n",
       "      <td>5642903</td>\n",
       "      <td>F</td>\n",
       "      <td>2016-04-29T18:38:08Z</td>\n",
       "      <td>2016-04-29T00:00:00Z</td>\n",
       "      <td>62</td>\n",
       "      <td>JARDIM DA PENHA</td>\n",
       "      <td>0</td>\n",
       "      <td>1</td>\n",
       "      <td>0</td>\n",
       "      <td>0</td>\n",
       "      <td>0</td>\n",
       "      <td>0</td>\n",
       "      <td>No</td>\n",
       "    </tr>\n",
       "  </tbody>\n",
       "</table>\n",
       "</div>"
      ],
      "text/plain": [
       "      PatientId  AppointmentID Gender          ScheduledDay  \\\n",
       "0  2.987250e+13        5642903      F  2016-04-29T18:38:08Z   \n",
       "\n",
       "         AppointmentDay  Age    Neighbourhood  Scholarship  Hipertension  \\\n",
       "0  2016-04-29T00:00:00Z   62  JARDIM DA PENHA            0             1   \n",
       "\n",
       "   Diabetes  Alcoholism  Handcap  SMS_received No-show  \n",
       "0         0           0        0             0      No  "
      ]
     },
     "execution_count": 621,
     "metadata": {},
     "output_type": "execute_result"
    }
   ],
   "source": [
    "# Load data and check how it looks\n",
    "df=pd.read_csv('noshowappointments-kagglev2-may-2016.csv')\n",
    "df.head(1) "
   ]
  },
  {
   "cell_type": "code",
   "execution_count": 622,
   "metadata": {},
   "outputs": [
    {
     "data": {
      "text/html": [
       "<div>\n",
       "<style>\n",
       "    .dataframe thead tr:only-child th {\n",
       "        text-align: right;\n",
       "    }\n",
       "\n",
       "    .dataframe thead th {\n",
       "        text-align: left;\n",
       "    }\n",
       "\n",
       "    .dataframe tbody tr th {\n",
       "        vertical-align: top;\n",
       "    }\n",
       "</style>\n",
       "<table border=\"1\" class=\"dataframe\">\n",
       "  <thead>\n",
       "    <tr style=\"text-align: right;\">\n",
       "      <th></th>\n",
       "      <th>PatientId</th>\n",
       "      <th>AppointmentID</th>\n",
       "      <th>Age</th>\n",
       "      <th>Scholarship</th>\n",
       "      <th>Hipertension</th>\n",
       "      <th>Diabetes</th>\n",
       "      <th>Alcoholism</th>\n",
       "      <th>Handcap</th>\n",
       "      <th>SMS_received</th>\n",
       "    </tr>\n",
       "  </thead>\n",
       "  <tbody>\n",
       "    <tr>\n",
       "      <th>count</th>\n",
       "      <td>1.105270e+05</td>\n",
       "      <td>1.105270e+05</td>\n",
       "      <td>110527.000000</td>\n",
       "      <td>110527.000000</td>\n",
       "      <td>110527.000000</td>\n",
       "      <td>110527.000000</td>\n",
       "      <td>110527.000000</td>\n",
       "      <td>110527.000000</td>\n",
       "      <td>110527.000000</td>\n",
       "    </tr>\n",
       "    <tr>\n",
       "      <th>mean</th>\n",
       "      <td>1.474963e+14</td>\n",
       "      <td>5.675305e+06</td>\n",
       "      <td>37.088874</td>\n",
       "      <td>0.098266</td>\n",
       "      <td>0.197246</td>\n",
       "      <td>0.071865</td>\n",
       "      <td>0.030400</td>\n",
       "      <td>0.022248</td>\n",
       "      <td>0.321026</td>\n",
       "    </tr>\n",
       "    <tr>\n",
       "      <th>std</th>\n",
       "      <td>2.560949e+14</td>\n",
       "      <td>7.129575e+04</td>\n",
       "      <td>23.110205</td>\n",
       "      <td>0.297675</td>\n",
       "      <td>0.397921</td>\n",
       "      <td>0.258265</td>\n",
       "      <td>0.171686</td>\n",
       "      <td>0.161543</td>\n",
       "      <td>0.466873</td>\n",
       "    </tr>\n",
       "    <tr>\n",
       "      <th>min</th>\n",
       "      <td>3.920000e+04</td>\n",
       "      <td>5.030230e+06</td>\n",
       "      <td>-1.000000</td>\n",
       "      <td>0.000000</td>\n",
       "      <td>0.000000</td>\n",
       "      <td>0.000000</td>\n",
       "      <td>0.000000</td>\n",
       "      <td>0.000000</td>\n",
       "      <td>0.000000</td>\n",
       "    </tr>\n",
       "    <tr>\n",
       "      <th>25%</th>\n",
       "      <td>4.172615e+12</td>\n",
       "      <td>5.640286e+06</td>\n",
       "      <td>18.000000</td>\n",
       "      <td>0.000000</td>\n",
       "      <td>0.000000</td>\n",
       "      <td>0.000000</td>\n",
       "      <td>0.000000</td>\n",
       "      <td>0.000000</td>\n",
       "      <td>0.000000</td>\n",
       "    </tr>\n",
       "    <tr>\n",
       "      <th>50%</th>\n",
       "      <td>3.173180e+13</td>\n",
       "      <td>5.680573e+06</td>\n",
       "      <td>37.000000</td>\n",
       "      <td>0.000000</td>\n",
       "      <td>0.000000</td>\n",
       "      <td>0.000000</td>\n",
       "      <td>0.000000</td>\n",
       "      <td>0.000000</td>\n",
       "      <td>0.000000</td>\n",
       "    </tr>\n",
       "    <tr>\n",
       "      <th>75%</th>\n",
       "      <td>9.439170e+13</td>\n",
       "      <td>5.725524e+06</td>\n",
       "      <td>55.000000</td>\n",
       "      <td>0.000000</td>\n",
       "      <td>0.000000</td>\n",
       "      <td>0.000000</td>\n",
       "      <td>0.000000</td>\n",
       "      <td>0.000000</td>\n",
       "      <td>1.000000</td>\n",
       "    </tr>\n",
       "    <tr>\n",
       "      <th>max</th>\n",
       "      <td>9.999820e+14</td>\n",
       "      <td>5.790484e+06</td>\n",
       "      <td>115.000000</td>\n",
       "      <td>1.000000</td>\n",
       "      <td>1.000000</td>\n",
       "      <td>1.000000</td>\n",
       "      <td>1.000000</td>\n",
       "      <td>4.000000</td>\n",
       "      <td>1.000000</td>\n",
       "    </tr>\n",
       "  </tbody>\n",
       "</table>\n",
       "</div>"
      ],
      "text/plain": [
       "          PatientId  AppointmentID            Age    Scholarship  \\\n",
       "count  1.105270e+05   1.105270e+05  110527.000000  110527.000000   \n",
       "mean   1.474963e+14   5.675305e+06      37.088874       0.098266   \n",
       "std    2.560949e+14   7.129575e+04      23.110205       0.297675   \n",
       "min    3.920000e+04   5.030230e+06      -1.000000       0.000000   \n",
       "25%    4.172615e+12   5.640286e+06      18.000000       0.000000   \n",
       "50%    3.173180e+13   5.680573e+06      37.000000       0.000000   \n",
       "75%    9.439170e+13   5.725524e+06      55.000000       0.000000   \n",
       "max    9.999820e+14   5.790484e+06     115.000000       1.000000   \n",
       "\n",
       "        Hipertension       Diabetes     Alcoholism        Handcap  \\\n",
       "count  110527.000000  110527.000000  110527.000000  110527.000000   \n",
       "mean        0.197246       0.071865       0.030400       0.022248   \n",
       "std         0.397921       0.258265       0.171686       0.161543   \n",
       "min         0.000000       0.000000       0.000000       0.000000   \n",
       "25%         0.000000       0.000000       0.000000       0.000000   \n",
       "50%         0.000000       0.000000       0.000000       0.000000   \n",
       "75%         0.000000       0.000000       0.000000       0.000000   \n",
       "max         1.000000       1.000000       1.000000       4.000000   \n",
       "\n",
       "        SMS_received  \n",
       "count  110527.000000  \n",
       "mean        0.321026  \n",
       "std         0.466873  \n",
       "min         0.000000  \n",
       "25%         0.000000  \n",
       "50%         0.000000  \n",
       "75%         1.000000  \n",
       "max         1.000000  "
      ]
     },
     "execution_count": 622,
     "metadata": {},
     "output_type": "execute_result"
    }
   ],
   "source": [
    "df.describe()# assess some statistics of each column"
   ]
  },
  {
   "cell_type": "markdown",
   "metadata": {},
   "source": [
    "It looks like the age column has some outliners, since a patient's age should be within 0 and 100, so code below is going to filter the data."
   ]
  },
  {
   "cell_type": "code",
   "execution_count": 623,
   "metadata": {},
   "outputs": [],
   "source": [
    "df=df[(df['Age']<100) & (df['Age']>0)]"
   ]
  },
  {
   "cell_type": "code",
   "execution_count": 624,
   "metadata": {},
   "outputs": [
    {
     "data": {
      "text/plain": [
       "count    106976.000000\n",
       "mean         38.309004\n",
       "std          22.456395\n",
       "min           1.000000\n",
       "25%          19.000000\n",
       "50%          38.000000\n",
       "75%          56.000000\n",
       "max          99.000000\n",
       "Name: Age, dtype: float64"
      ]
     },
     "execution_count": 624,
     "metadata": {},
     "output_type": "execute_result"
    }
   ],
   "source": [
    "#check if the age has been properly filtered\n",
    "df.Age.describe()"
   ]
  },
  {
   "cell_type": "code",
   "execution_count": 625,
   "metadata": {},
   "outputs": [
    {
     "name": "stdout",
     "output_type": "stream",
     "text": [
      "<class 'pandas.core.frame.DataFrame'>\n",
      "Int64Index: 106976 entries, 0 to 110526\n",
      "Data columns (total 14 columns):\n",
      "PatientId         106976 non-null float64\n",
      "AppointmentID     106976 non-null int64\n",
      "Gender            106976 non-null object\n",
      "ScheduledDay      106976 non-null object\n",
      "AppointmentDay    106976 non-null object\n",
      "Age               106976 non-null int64\n",
      "Neighbourhood     106976 non-null object\n",
      "Scholarship       106976 non-null int64\n",
      "Hipertension      106976 non-null int64\n",
      "Diabetes          106976 non-null int64\n",
      "Alcoholism        106976 non-null int64\n",
      "Handcap           106976 non-null int64\n",
      "SMS_received      106976 non-null int64\n",
      "No-show           106976 non-null object\n",
      "dtypes: float64(1), int64(8), object(5)\n",
      "memory usage: 12.2+ MB\n"
     ]
    }
   ],
   "source": [
    "df.info()# check the data type of each column"
   ]
  },
  {
   "cell_type": "code",
   "execution_count": 626,
   "metadata": {},
   "outputs": [
    {
     "data": {
      "text/plain": [
       "0"
      ]
     },
     "execution_count": 626,
     "metadata": {},
     "output_type": "execute_result"
    }
   ],
   "source": [
    "sum(df.duplicated()) # check if there is any duplicates "
   ]
  },
  {
   "cell_type": "code",
   "execution_count": 627,
   "metadata": {},
   "outputs": [
    {
     "data": {
      "text/plain": [
       "0"
      ]
     },
     "execution_count": 627,
     "metadata": {},
     "output_type": "execute_result"
    }
   ],
   "source": [
    "df.isnull().sum().sum() #check if there is any null values"
   ]
  },
  {
   "cell_type": "code",
   "execution_count": 628,
   "metadata": {},
   "outputs": [
    {
     "data": {
      "text/plain": [
       "PatientId          59742\n",
       "AppointmentID     106976\n",
       "Gender                 2\n",
       "ScheduledDay      100298\n",
       "AppointmentDay        27\n",
       "Age                   99\n",
       "Neighbourhood         81\n",
       "Scholarship            2\n",
       "Hipertension           2\n",
       "Diabetes               2\n",
       "Alcoholism             2\n",
       "Handcap                5\n",
       "SMS_received           2\n",
       "No-show                2\n",
       "dtype: int64"
      ]
     },
     "execution_count": 628,
     "metadata": {},
     "output_type": "execute_result"
    }
   ],
   "source": [
    "df.nunique() #check the unique values of each column"
   ]
  },
  {
   "cell_type": "markdown",
   "metadata": {},
   "source": [
    "\n",
    "## Initial conclusion after accessing the data##\n",
    "\n",
    "\n",
    "There is no missing value, no null value, no duplicates, and also the data type for each column looks right, so it seems that the data had been cleaned already, though a few cleaning steps needed to make the data easier to read and analyze, such as the column name has typos, appointment day and scheduled day's data type need to be converted before any math operations, since I need to have one additional column called 'Dayinterval', which uses appointment day subtract scheduled day.\n"
   ]
  },
  {
   "cell_type": "markdown",
   "metadata": {},
   "source": [
    "\n",
    "### Data Cleaning \n",
    "Rename columns, create work day of appointment day column, convert AppointmentDay and ScheduledDay's data type and create a column represents the interval between appointment day and scheduled day."
   ]
  },
  {
   "cell_type": "code",
   "execution_count": 629,
   "metadata": {},
   "outputs": [
    {
     "data": {
      "text/html": [
       "<div>\n",
       "<style>\n",
       "    .dataframe thead tr:only-child th {\n",
       "        text-align: right;\n",
       "    }\n",
       "\n",
       "    .dataframe thead th {\n",
       "        text-align: left;\n",
       "    }\n",
       "\n",
       "    .dataframe tbody tr th {\n",
       "        vertical-align: top;\n",
       "    }\n",
       "</style>\n",
       "<table border=\"1\" class=\"dataframe\">\n",
       "  <thead>\n",
       "    <tr style=\"text-align: right;\">\n",
       "      <th></th>\n",
       "      <th>PatientId</th>\n",
       "      <th>AppointmentID</th>\n",
       "      <th>Gender</th>\n",
       "      <th>ScheduledDay</th>\n",
       "      <th>AppointmentDay</th>\n",
       "      <th>Age</th>\n",
       "      <th>Neighbourhood</th>\n",
       "      <th>Scholarship</th>\n",
       "      <th>Hypertension</th>\n",
       "      <th>Diabetes</th>\n",
       "      <th>Alcoholism</th>\n",
       "      <th>Handicap</th>\n",
       "      <th>SMS_received</th>\n",
       "      <th>No_show</th>\n",
       "    </tr>\n",
       "  </thead>\n",
       "  <tbody>\n",
       "    <tr>\n",
       "      <th>0</th>\n",
       "      <td>2.987250e+13</td>\n",
       "      <td>5642903</td>\n",
       "      <td>F</td>\n",
       "      <td>2016-04-29T18:38:08Z</td>\n",
       "      <td>2016-04-29T00:00:00Z</td>\n",
       "      <td>62</td>\n",
       "      <td>JARDIM DA PENHA</td>\n",
       "      <td>0</td>\n",
       "      <td>1</td>\n",
       "      <td>0</td>\n",
       "      <td>0</td>\n",
       "      <td>0</td>\n",
       "      <td>0</td>\n",
       "      <td>No</td>\n",
       "    </tr>\n",
       "  </tbody>\n",
       "</table>\n",
       "</div>"
      ],
      "text/plain": [
       "      PatientId  AppointmentID Gender          ScheduledDay  \\\n",
       "0  2.987250e+13        5642903      F  2016-04-29T18:38:08Z   \n",
       "\n",
       "         AppointmentDay  Age    Neighbourhood  Scholarship  Hypertension  \\\n",
       "0  2016-04-29T00:00:00Z   62  JARDIM DA PENHA            0             1   \n",
       "\n",
       "   Diabetes  Alcoholism  Handicap  SMS_received No_show  \n",
       "0         0           0         0             0      No  "
      ]
     },
     "execution_count": 629,
     "metadata": {},
     "output_type": "execute_result"
    }
   ],
   "source": [
    "\n",
    "df=df.rename(columns={'Hipertension':'Hypertension','Handcap':'Handicap','No-show':'No_show'})# rename a few column names to make them easier to understand\n",
    "df.head(1)\n"
   ]
  },
  {
   "cell_type": "code",
   "execution_count": 630,
   "metadata": {},
   "outputs": [],
   "source": [
    "df['AppointmentDay_weekday']=pd.to_datetime(df['AppointmentDay']).dt.dayofweek\n",
    "# Create one addtional column to covert the appointment  day to day of week\n"
   ]
  },
  {
   "cell_type": "code",
   "execution_count": 631,
   "metadata": {},
   "outputs": [],
   "source": [
    "df['AppointmentDay'] = pd.to_datetime(df['AppointmentDay']).dt.date\n",
    "\n",
    "df['ScheduledDay']   = pd.to_datetime(df['ScheduledDay']).dt.date\n",
    "#convert the string to date type for appointmentDay and ScheduledDay before substract them"
   ]
  },
  {
   "cell_type": "code",
   "execution_count": 632,
   "metadata": {},
   "outputs": [],
   "source": [
    "df['Dayinterval']=(df['AppointmentDay']-df['ScheduledDay'])/np.timedelta64(1, 'D')\n",
    "#convert the dayinterval's data type to float in order to anlayse "
   ]
  },
  {
   "cell_type": "code",
   "execution_count": 633,
   "metadata": {},
   "outputs": [
    {
     "data": {
      "text/html": [
       "<div>\n",
       "<style>\n",
       "    .dataframe thead tr:only-child th {\n",
       "        text-align: right;\n",
       "    }\n",
       "\n",
       "    .dataframe thead th {\n",
       "        text-align: left;\n",
       "    }\n",
       "\n",
       "    .dataframe tbody tr th {\n",
       "        vertical-align: top;\n",
       "    }\n",
       "</style>\n",
       "<table border=\"1\" class=\"dataframe\">\n",
       "  <thead>\n",
       "    <tr style=\"text-align: right;\">\n",
       "      <th></th>\n",
       "      <th>PatientId</th>\n",
       "      <th>AppointmentID</th>\n",
       "      <th>Age</th>\n",
       "      <th>Scholarship</th>\n",
       "      <th>Hypertension</th>\n",
       "      <th>Diabetes</th>\n",
       "      <th>Alcoholism</th>\n",
       "      <th>Handicap</th>\n",
       "      <th>SMS_received</th>\n",
       "      <th>AppointmentDay_weekday</th>\n",
       "      <th>Dayinterval</th>\n",
       "    </tr>\n",
       "  </thead>\n",
       "  <tbody>\n",
       "    <tr>\n",
       "      <th>count</th>\n",
       "      <td>1.069760e+05</td>\n",
       "      <td>1.069760e+05</td>\n",
       "      <td>106976.000000</td>\n",
       "      <td>106976.000000</td>\n",
       "      <td>106976.000000</td>\n",
       "      <td>106976.000000</td>\n",
       "      <td>106976.000000</td>\n",
       "      <td>106976.000000</td>\n",
       "      <td>106976.000000</td>\n",
       "      <td>106976.000000</td>\n",
       "      <td>106976.000000</td>\n",
       "    </tr>\n",
       "    <tr>\n",
       "      <th>mean</th>\n",
       "      <td>1.472785e+14</td>\n",
       "      <td>5.675432e+06</td>\n",
       "      <td>38.309004</td>\n",
       "      <td>0.101041</td>\n",
       "      <td>0.203784</td>\n",
       "      <td>0.074250</td>\n",
       "      <td>0.031409</td>\n",
       "      <td>0.022921</td>\n",
       "      <td>0.323278</td>\n",
       "      <td>1.860427</td>\n",
       "      <td>10.166794</td>\n",
       "    </tr>\n",
       "    <tr>\n",
       "      <th>std</th>\n",
       "      <td>2.558181e+14</td>\n",
       "      <td>7.133383e+04</td>\n",
       "      <td>22.456395</td>\n",
       "      <td>0.301385</td>\n",
       "      <td>0.402812</td>\n",
       "      <td>0.262179</td>\n",
       "      <td>0.174421</td>\n",
       "      <td>0.163960</td>\n",
       "      <td>0.467730</td>\n",
       "      <td>1.371451</td>\n",
       "      <td>15.263781</td>\n",
       "    </tr>\n",
       "    <tr>\n",
       "      <th>min</th>\n",
       "      <td>3.920000e+04</td>\n",
       "      <td>5.030230e+06</td>\n",
       "      <td>1.000000</td>\n",
       "      <td>0.000000</td>\n",
       "      <td>0.000000</td>\n",
       "      <td>0.000000</td>\n",
       "      <td>0.000000</td>\n",
       "      <td>0.000000</td>\n",
       "      <td>0.000000</td>\n",
       "      <td>0.000000</td>\n",
       "      <td>-6.000000</td>\n",
       "    </tr>\n",
       "    <tr>\n",
       "      <th>25%</th>\n",
       "      <td>4.173122e+12</td>\n",
       "      <td>5.640488e+06</td>\n",
       "      <td>19.000000</td>\n",
       "      <td>0.000000</td>\n",
       "      <td>0.000000</td>\n",
       "      <td>0.000000</td>\n",
       "      <td>0.000000</td>\n",
       "      <td>0.000000</td>\n",
       "      <td>0.000000</td>\n",
       "      <td>1.000000</td>\n",
       "      <td>0.000000</td>\n",
       "    </tr>\n",
       "    <tr>\n",
       "      <th>50%</th>\n",
       "      <td>3.171765e+13</td>\n",
       "      <td>5.680740e+06</td>\n",
       "      <td>38.000000</td>\n",
       "      <td>0.000000</td>\n",
       "      <td>0.000000</td>\n",
       "      <td>0.000000</td>\n",
       "      <td>0.000000</td>\n",
       "      <td>0.000000</td>\n",
       "      <td>0.000000</td>\n",
       "      <td>2.000000</td>\n",
       "      <td>4.000000</td>\n",
       "    </tr>\n",
       "    <tr>\n",
       "      <th>75%</th>\n",
       "      <td>9.433650e+13</td>\n",
       "      <td>5.725632e+06</td>\n",
       "      <td>56.000000</td>\n",
       "      <td>0.000000</td>\n",
       "      <td>0.000000</td>\n",
       "      <td>0.000000</td>\n",
       "      <td>0.000000</td>\n",
       "      <td>0.000000</td>\n",
       "      <td>1.000000</td>\n",
       "      <td>3.000000</td>\n",
       "      <td>14.000000</td>\n",
       "    </tr>\n",
       "    <tr>\n",
       "      <th>max</th>\n",
       "      <td>9.999820e+14</td>\n",
       "      <td>5.790484e+06</td>\n",
       "      <td>99.000000</td>\n",
       "      <td>1.000000</td>\n",
       "      <td>1.000000</td>\n",
       "      <td>1.000000</td>\n",
       "      <td>1.000000</td>\n",
       "      <td>4.000000</td>\n",
       "      <td>1.000000</td>\n",
       "      <td>5.000000</td>\n",
       "      <td>179.000000</td>\n",
       "    </tr>\n",
       "  </tbody>\n",
       "</table>\n",
       "</div>"
      ],
      "text/plain": [
       "          PatientId  AppointmentID            Age    Scholarship  \\\n",
       "count  1.069760e+05   1.069760e+05  106976.000000  106976.000000   \n",
       "mean   1.472785e+14   5.675432e+06      38.309004       0.101041   \n",
       "std    2.558181e+14   7.133383e+04      22.456395       0.301385   \n",
       "min    3.920000e+04   5.030230e+06       1.000000       0.000000   \n",
       "25%    4.173122e+12   5.640488e+06      19.000000       0.000000   \n",
       "50%    3.171765e+13   5.680740e+06      38.000000       0.000000   \n",
       "75%    9.433650e+13   5.725632e+06      56.000000       0.000000   \n",
       "max    9.999820e+14   5.790484e+06      99.000000       1.000000   \n",
       "\n",
       "        Hypertension       Diabetes     Alcoholism       Handicap  \\\n",
       "count  106976.000000  106976.000000  106976.000000  106976.000000   \n",
       "mean        0.203784       0.074250       0.031409       0.022921   \n",
       "std         0.402812       0.262179       0.174421       0.163960   \n",
       "min         0.000000       0.000000       0.000000       0.000000   \n",
       "25%         0.000000       0.000000       0.000000       0.000000   \n",
       "50%         0.000000       0.000000       0.000000       0.000000   \n",
       "75%         0.000000       0.000000       0.000000       0.000000   \n",
       "max         1.000000       1.000000       1.000000       4.000000   \n",
       "\n",
       "        SMS_received  AppointmentDay_weekday    Dayinterval  \n",
       "count  106976.000000           106976.000000  106976.000000  \n",
       "mean        0.323278                1.860427      10.166794  \n",
       "std         0.467730                1.371451      15.263781  \n",
       "min         0.000000                0.000000      -6.000000  \n",
       "25%         0.000000                1.000000       0.000000  \n",
       "50%         0.000000                2.000000       4.000000  \n",
       "75%         1.000000                3.000000      14.000000  \n",
       "max         1.000000                5.000000     179.000000  "
      ]
     },
     "execution_count": 633,
     "metadata": {},
     "output_type": "execute_result"
    }
   ],
   "source": [
    "df.describe()#Assess the data again after cleaning"
   ]
  },
  {
   "cell_type": "markdown",
   "metadata": {},
   "source": [
    "From above data description, the Dayinterval has outliners, a patient must schedule an appointment before the appointment day, so only keep those appointment day>=schedule day, code below will filter the data."
   ]
  },
  {
   "cell_type": "code",
   "execution_count": 634,
   "metadata": {},
   "outputs": [],
   "source": [
    "\n",
    "df=df[df['AppointmentDay']>=df['ScheduledDay']]"
   ]
  },
  {
   "cell_type": "markdown",
   "metadata": {},
   "source": [
    "<a id='eda'></a>\n",
    "## Exploratory Data Analysis\n",
    "\n",
    "\n",
    "\n",
    "\n",
    "\n",
    "\n",
    "\n"
   ]
  },
  {
   "cell_type": "markdown",
   "metadata": {},
   "source": [
    "Before stepping into the analysis, I firstly want to check the limitaions of the datset and then I want to know the distribution of each column's values."
   ]
  },
  {
   "cell_type": "markdown",
   "metadata": {},
   "source": [
    "Check the the limitation of the dataset"
   ]
  },
  {
   "cell_type": "code",
   "execution_count": 635,
   "metadata": {},
   "outputs": [
    {
     "name": "stdout",
     "output_type": "stream",
     "text": [
      "PatientId unique value: 59742\n",
      "AppointmentID unique value: 106971\n",
      "Gender unique value: 2\n",
      "ScheduledDay unique value: 110\n",
      "AppointmentDay unique value: 27\n",
      "Age unique value: 99\n",
      "Neighbourhood unique value: 81\n",
      "Scholarship unique value: 2\n",
      "Hypertension unique value: 2\n",
      "Diabetes unique value: 2\n",
      "Alcoholism unique value: 2\n",
      "Handicap unique value: 5\n",
      "SMS_received unique value: 2\n",
      "No_show unique value: 2\n",
      "AppointmentDay_weekday unique value: 6\n",
      "Dayinterval unique value: 129\n"
     ]
    }
   ],
   "source": [
    "#check the unique values of each column\n",
    "for c in df.columns:\n",
    "    print(c,'unique value:',df[c].nunique())"
   ]
  },
  {
   "cell_type": "markdown",
   "metadata": {},
   "source": [
    "It seems that very limited neighborhoods were being collected, only 89 unique values. Also, there are only 27 unique appointment day, so the data are being narrowly collected for a time period, same for scheduled day, so need to check neighbor value, appointment day and scheduled day's span."
   ]
  },
  {
   "cell_type": "code",
   "execution_count": 636,
   "metadata": {},
   "outputs": [
    {
     "name": "stdout",
     "output_type": "stream",
     "text": [
      "['JARDIM DA PENHA' 'MATA DA PRAIA' 'PONTAL DE CAMBURI' 'REPÚBLICA'\n",
      " 'GOIABEIRAS' 'ANDORINHAS' 'CONQUISTA' 'NOVA PALESTINA' 'DA PENHA'\n",
      " 'TABUAZEIRO' 'BENTO FERREIRA' 'SÃO PEDRO' 'SANTA MARTHA' 'SÃO CRISTÓVÃO'\n",
      " 'MARUÍPE' 'GRANDE VITÓRIA' 'SANTO ANDRÉ' 'SOLON BORGES' 'BONFIM'\n",
      " 'JARDIM CAMBURI' 'MARIA ORTIZ' 'JABOUR' 'ANTÔNIO HONÓRIO' 'RESISTÊNCIA'\n",
      " 'ILHA DE SANTA MARIA' 'JUCUTUQUARA' 'MÁRIO CYPRESTE' 'SANTO ANTÔNIO'\n",
      " 'BELA VISTA' 'PRAIA DO SUÁ' 'SANTA HELENA' 'ITARARÉ' 'INHANGUETÁ'\n",
      " 'UNIVERSITÁRIO' 'SÃO JOSÉ' 'REDENÇÃO' 'SANTA CLARA' 'CENTRO'\n",
      " 'PARQUE MOSCOSO' 'DO MOSCOSO' 'SANTOS DUMONT' 'CARATOÍRA'\n",
      " 'ARIOVALDO FAVALESSA' 'ILHA DO FRADE' 'GURIGICA' 'JOANA D´ARC'\n",
      " 'CONSOLAÇÃO' 'SÃO BENEDITO' 'PRAIA DO CANTO' 'BOA VISTA' 'SANTA LÚCIA'\n",
      " 'BARRO VERMELHO' 'ESTRELINHA' 'FORTE SÃO JOÃO' 'FONTE GRANDE'\n",
      " 'MORADA DE CAMBURI' 'ENSEADA DO SUÁ' 'SANTOS REIS' 'PIEDADE'\n",
      " 'JESUS DE NAZARETH' 'SANTA LUÍZA' 'SANTA TEREZA' 'CRUZAMENTO'\n",
      " 'ILHA DO PRÍNCIPE' 'ROMÃO' 'ILHA DAS CAIEIRAS' 'COMDUSA' 'SANTA CECÍLIA'\n",
      " 'VILA RUBIM' 'DE LOURDES' 'MONTE BELO' 'DO QUADRO' 'DO CABRAL' 'HORTO'\n",
      " 'SEGURANÇA DO LAR' 'ILHA DO BOI' 'FRADINHOS' 'NAZARETH' 'AEROPORTO'\n",
      " 'ILHAS OCEÂNICAS DE TRINDADE' 'PARQUE INDUSTRIAL']\n",
      "AppointmentDay span 40 days, 0:00:00\n",
      "ScheduledDay span 211 days, 0:00:00\n"
     ]
    }
   ],
   "source": [
    "print(df['Neighbourhood'].unique())\n",
    "columns=['AppointmentDay','ScheduledDay']\n",
    "for c in columns:\n",
    "    print (c,'span',df[c].max()-df[c].min())"
   ]
  },
  {
   "cell_type": "markdown",
   "metadata": {},
   "source": [
    "So the Appointment days only have a span of 40 day, scheduled days have a span of 211 days. Whatever conclusions might hold true for this narrow time period, but applying them to a general pictures is risky."
   ]
  },
  {
   "cell_type": "markdown",
   "metadata": {},
   "source": [
    "Now, I begin to check each column's histogram to see their value distributions"
   ]
  },
  {
   "cell_type": "code",
   "execution_count": 637,
   "metadata": {},
   "outputs": [
    {
     "data": {
      "text/plain": [
       "array([[<matplotlib.axes._subplots.AxesSubplot object at 0x7f9de58cd588>,\n",
       "        <matplotlib.axes._subplots.AxesSubplot object at 0x7f9de23a2dd8>,\n",
       "        <matplotlib.axes._subplots.AxesSubplot object at 0x7f9de1ce7438>],\n",
       "       [<matplotlib.axes._subplots.AxesSubplot object at 0x7f9de23fff98>,\n",
       "        <matplotlib.axes._subplots.AxesSubplot object at 0x7f9de31cca58>,\n",
       "        <matplotlib.axes._subplots.AxesSubplot object at 0x7f9de31cca90>],\n",
       "       [<matplotlib.axes._subplots.AxesSubplot object at 0x7f9de3187198>,\n",
       "        <matplotlib.axes._subplots.AxesSubplot object at 0x7f9de31305f8>,\n",
       "        <matplotlib.axes._subplots.AxesSubplot object at 0x7f9de30e4c18>],\n",
       "       [<matplotlib.axes._subplots.AxesSubplot object at 0x7f9de30a5208>,\n",
       "        <matplotlib.axes._subplots.AxesSubplot object at 0x7f9de305b828>,\n",
       "        <matplotlib.axes._subplots.AxesSubplot object at 0x7f9de30ee588>]], dtype=object)"
      ]
     },
     "execution_count": 637,
     "metadata": {},
     "output_type": "execute_result"
    },
    {
     "data": {
      "image/png": "[encoded data removed]",
      "text/plain": [
       "<matplotlib.figure.Figure at 0x7f9de405d710>"
      ]
     },
     "metadata": {
      "needs_background": "light"
     },
     "output_type": "display_data"
    }
   ],
   "source": [
    "df.hist(figsize=(8,8))"
   ]
  },
  {
   "cell_type": "code",
   "execution_count": 638,
   "metadata": {},
   "outputs": [
    {
     "name": "stdout",
     "output_type": "stream",
     "text": [
      "<class 'pandas.core.frame.DataFrame'>\n",
      "Int64Index: 106971 entries, 0 to 110526\n",
      "Data columns (total 16 columns):\n",
      "PatientId                 106971 non-null float64\n",
      "AppointmentID             106971 non-null int64\n",
      "Gender                    106971 non-null object\n",
      "ScheduledDay              106971 non-null object\n",
      "AppointmentDay            106971 non-null object\n",
      "Age                       106971 non-null int64\n",
      "Neighbourhood             106971 non-null object\n",
      "Scholarship               106971 non-null int64\n",
      "Hypertension              106971 non-null int64\n",
      "Diabetes                  106971 non-null int64\n",
      "Alcoholism                106971 non-null int64\n",
      "Handicap                  106971 non-null int64\n",
      "SMS_received              106971 non-null int64\n",
      "No_show                   106971 non-null object\n",
      "AppointmentDay_weekday    106971 non-null int64\n",
      "Dayinterval               106971 non-null float64\n",
      "dtypes: float64(2), int64(9), object(5)\n",
      "memory usage: 13.9+ MB\n"
     ]
    }
   ],
   "source": [
    "df.info()"
   ]
  },
  {
   "cell_type": "markdown",
   "metadata": {},
   "source": [
    "Gender and No show were not being plotted since their data types are string, but  I want to use pie chart to see how the values are distributed."
   ]
  },
  {
   "cell_type": "code",
   "execution_count": 639,
   "metadata": {},
   "outputs": [],
   "source": [
    "#Get the counts of female and male patients\n",
    "femalecount=df.groupby('Gender').count()['PatientId']['F']\n",
    "malecount=df.groupby('Gender').count()['PatientId']['M']"
   ]
  },
  {
   "cell_type": "code",
   "execution_count": 640,
   "metadata": {},
   "outputs": [
    {
     "data": {
      "text/plain": [
       "Text(0.5,1,'Percentage of Male and Female Patients being collected')"
      ]
     },
     "execution_count": 640,
     "metadata": {},
     "output_type": "execute_result"
    },
    {
     "data": {
      "image/png": "[encoded data removed]",
      "text/plain": [
       "<matplotlib.figure.Figure at 0x7f9de3028b70>"
      ]
     },
     "metadata": {},
     "output_type": "display_data"
    }
   ],
   "source": [
    "label=['Female','Male']\n",
    "color=['r','b']\n",
    "plt.pie([femalecount,malecount],labels=label,colors=color,startangle=90,autopct='%.1f%%')\n",
    "plt.title('Percentage of Male and Female Patients being collected')"
   ]
  },
  {
   "cell_type": "code",
   "execution_count": 641,
   "metadata": {},
   "outputs": [],
   "source": [
    "show=df.groupby('No_show').count()['PatientId']['No']\n",
    "noshow=df.groupby('No_show').count()['PatientId']['Yes']"
   ]
  },
  {
   "cell_type": "code",
   "execution_count": 642,
   "metadata": {},
   "outputs": [
    {
     "data": {
      "text/plain": [
       "Text(0.5,1,'Percentage of show up and no show up')"
      ]
     },
     "execution_count": 642,
     "metadata": {},
     "output_type": "execute_result"
    },
    {
     "data": {
      "image/png": "[encoded data removed]",
      "text/plain": [
       "<matplotlib.figure.Figure at 0x7f9de2f13860>"
      ]
     },
     "metadata": {},
     "output_type": "display_data"
    }
   ],
   "source": [
    "label=['Show up','No Show up']\n",
    "color=['r','g']\n",
    "plt.pie([show,noshow],labels=label,colors=color,startangle=90,autopct='%.1f%%')\n",
    "plt.title('Percentage of show up and no show up')"
   ]
  },
  {
   "cell_type": "markdown",
   "metadata": {},
   "source": [
    "### Research Question 1 (Are age and the show up related?)"
   ]
  },
  {
   "cell_type": "markdown",
   "metadata": {},
   "source": [
    "I am going to define bar plot function since I need to use twice"
   ]
  },
  {
   "cell_type": "code",
   "execution_count": 643,
   "metadata": {},
   "outputs": [],
   "source": [
    "def barplot(x):\n",
    "    plt.bar([1,2],x,tick_label=['Show up','No show up'])\n",
    "   "
   ]
  },
  {
   "cell_type": "code",
   "execution_count": 644,
   "metadata": {},
   "outputs": [],
   "source": [
    "age=df.groupby('No_show').Age.mean()"
   ]
  },
  {
   "cell_type": "code",
   "execution_count": 645,
   "metadata": {},
   "outputs": [
    {
     "data": {
      "text/plain": [
       "Text(0,0.5,'Average Age')"
      ]
     },
     "execution_count": 645,
     "metadata": {},
     "output_type": "execute_result"
    },
    {
     "data": {
      "image/png": "[encoded data removed]",
      "text/plain": [
       "<matplotlib.figure.Figure at 0x7f9de2de07b8>"
      ]
     },
     "metadata": {
      "needs_background": "light"
     },
     "output_type": "display_data"
    }
   ],
   "source": [
    "barplot(age)\n",
    "plt.xlabel('Patient Group')\n",
    "plt.title('Average age of patients who show up and not show up')\n",
    "plt.ylabel('Average Age')"
   ]
  },
  {
   "cell_type": "markdown",
   "metadata": {},
   "source": [
    "### Conclusion for question 1\n",
    "A patient' age is correlated to his/her show up performance for medical appointments. Show up group's patients' average age is older than no show up group."
   ]
  },
  {
   "cell_type": "markdown",
   "metadata": {},
   "source": [
    "### Research Question 2 (Are Dayinterval and the show up correlated?)"
   ]
  },
  {
   "cell_type": "code",
   "execution_count": 646,
   "metadata": {},
   "outputs": [],
   "source": [
    "dayinterval=df.groupby('No_show').Dayinterval.mean()"
   ]
  },
  {
   "cell_type": "code",
   "execution_count": 647,
   "metadata": {},
   "outputs": [
    {
     "data": {
      "text/plain": [
       "Text(0.5,0,'Patient group')"
      ]
     },
     "execution_count": 647,
     "metadata": {},
     "output_type": "execute_result"
    },
    {
     "data": {
      "image/png": "[encoded data removed]",
      "text/plain": [
       "<matplotlib.figure.Figure at 0x7f9de2de6240>"
      ]
     },
     "metadata": {
      "needs_background": "light"
     },
     "output_type": "display_data"
    }
   ],
   "source": [
    "barplot(dayinterval)\n",
    "plt.title('Average day interval of patients who show up and not show up')\n",
    "plt.ylabel('Average day interval')\n",
    "plt.xlabel('Patient group')"
   ]
  },
  {
   "cell_type": "markdown",
   "metadata": {},
   "source": [
    "## Conclusion for question 2\n",
    "Show up group's patients' average interval between the day the schedule appointments and appointment day is less than no show up group."
   ]
  },
  {
   "cell_type": "markdown",
   "metadata": {},
   "source": [
    "### Research Question 3  (Is a patient's gender and the show up related? )"
   ]
  },
  {
   "cell_type": "code",
   "execution_count": 648,
   "metadata": {},
   "outputs": [
    {
     "data": {
      "text/plain": [
       "Gender  No_show\n",
       "F       No         55837\n",
       "        Yes        14269\n",
       "M       No         29462\n",
       "        Yes         7403\n",
       "Name: PatientId, dtype: int64"
      ]
     },
     "execution_count": 648,
     "metadata": {},
     "output_type": "execute_result"
    }
   ],
   "source": [
    "\n",
    "#get counts for each gender and show up/no show \n",
    "Gendercounts=df.groupby(['Gender','No_show']).count()['PatientId']\n",
    "Gendercounts\n"
   ]
  },
  {
   "cell_type": "code",
   "execution_count": 649,
   "metadata": {},
   "outputs": [
    {
     "data": {
      "text/plain": [
       "Gender\n",
       "F    70106\n",
       "M    36865\n",
       "Name: PatientId, dtype: int64"
      ]
     },
     "execution_count": 649,
     "metadata": {},
     "output_type": "execute_result"
    }
   ],
   "source": [
    "#create the total counts for each gender\n",
    "Gender_totals=df.groupby('Gender').count()['PatientId']\n",
    "Gender_totals\n"
   ]
  },
  {
   "cell_type": "code",
   "execution_count": 650,
   "metadata": {},
   "outputs": [],
   "source": [
    "#create each gender's proportion in show up and no show up\n",
    "female_proportions=Gendercounts['F']/Gender_totals['F']\n",
    "male_proportions=Gendercounts['M']/Gender_totals['M']\n"
   ]
  },
  {
   "cell_type": "code",
   "execution_count": 651,
   "metadata": {},
   "outputs": [
    {
     "data": {
      "text/plain": [
       "No_show\n",
       "No     0.796465\n",
       "Yes    0.203535\n",
       "Name: PatientId, dtype: float64"
      ]
     },
     "execution_count": 651,
     "metadata": {},
     "output_type": "execute_result"
    }
   ],
   "source": [
    "female_proportions"
   ]
  },
  {
   "cell_type": "code",
   "execution_count": 652,
   "metadata": {},
   "outputs": [
    {
     "data": {
      "text/plain": [
       "([<matplotlib.axis.XTick at 0x7f9de2ce9470>,\n",
       "  <matplotlib.axis.XTick at 0x7f9de2cf5048>],\n",
       " <a list of 2 Text xticklabel objects>)"
      ]
     },
     "execution_count": 652,
     "metadata": {},
     "output_type": "execute_result"
    },
    {
     "data": {
      "image/png": "[encoded data removed]",
      "text/plain": [
       "<matplotlib.figure.Figure at 0x7f9de2d2db38>"
      ]
     },
     "metadata": {
      "needs_background": "light"
     },
     "output_type": "display_data"
    }
   ],
   "source": [
    "location=np.arange(2)\n",
    "width=0.35\n",
    "#plot each gender's proportions in show up and no show up\n",
    "plt.bar(location,female_proportions,width,color='red',alpha=0.7,label='Female')\n",
    "plt.bar(location+width,male_proportions,width,color='blue',alpha=0.7,label='Male')\n",
    "labellocation=location+width/2\n",
    "label=['Show up','No show up']\n",
    "plt.legend()\n",
    "plt.title('Proportion of Male and Female Patients in Show Up and No Show Up Group')\n",
    "plt.ylabel('proportion')\n",
    "plt.xticks(labellocation,label)"
   ]
  },
  {
   "cell_type": "markdown",
   "metadata": {},
   "source": [
    "## Conclusion for question 3\n",
    "\n",
    "Same proportion of male and female show up for appointments, which means that the gender and the show up is not closely related.\n"
   ]
  },
  {
   "cell_type": "markdown",
   "metadata": {},
   "source": [
    "### Research Question 4  (Is the work day of appointment and show up related?)"
   ]
  },
  {
   "cell_type": "code",
   "execution_count": 653,
   "metadata": {},
   "outputs": [
    {
     "data": {
      "text/plain": [
       "AppointmentDay_weekday  No_show\n",
       "0                       No         17387\n",
       "                        Yes         4513\n",
       "1                       No         19804\n",
       "                        Yes         5022\n",
       "2                       No         20141\n",
       "                        Yes         4947\n",
       "3                       No         13414\n",
       "                        Yes         3241\n",
       "4                       No         14523\n",
       "                        Yes         3940\n",
       "5                       No            30\n",
       "                        Yes            9\n",
       "Name: PatientId, dtype: int64"
      ]
     },
     "execution_count": 653,
     "metadata": {},
     "output_type": "execute_result"
    }
   ],
   "source": [
    "\n",
    "#get counts for each week day and show up/no show \n",
    "workdaycounts=df.groupby(['AppointmentDay_weekday','No_show']).count()['PatientId']\n",
    "workdaycounts"
   ]
  },
  {
   "cell_type": "code",
   "execution_count": 654,
   "metadata": {},
   "outputs": [],
   "source": [
    "#create the total counts for each workday from Monday to Satarday\n",
    "workdaytotal=df.groupby('AppointmentDay_weekday').count()['PatientId']\n"
   ]
  },
  {
   "cell_type": "code",
   "execution_count": 655,
   "metadata": {},
   "outputs": [],
   "source": [
    "#create each work day's proportion in show up and no show up\n",
    "\n",
    "Mon=workdaycounts[0]/workdaytotal[0]\n",
    "Tue=workdaycounts[1]/workdaytotal[1]\n",
    "Wed=workdaycounts[2]/workdaytotal[2]\n",
    "Thu=workdaycounts[3]/workdaytotal[3]\n",
    "Fri=workdaycounts[4]/workdaytotal[4]\n",
    "Sat=workdaycounts[5]/workdaytotal[5]"
   ]
  },
  {
   "cell_type": "code",
   "execution_count": 656,
   "metadata": {},
   "outputs": [
    {
     "data": {
      "text/plain": [
       "([<matplotlib.axis.XTick at 0x7f9de2ccc400>,\n",
       "  <matplotlib.axis.XTick at 0x7f9de2cd2fd0>],\n",
       " <a list of 2 Text xticklabel objects>)"
      ]
     },
     "execution_count": 656,
     "metadata": {},
     "output_type": "execute_result"
    },
    {
     "data": {
      "image/png": "[encoded data removed]",
      "text/plain": [
       "<matplotlib.figure.Figure at 0x7f9de2cb6e48>"
      ]
     },
     "metadata": {
      "needs_background": "light"
     },
     "output_type": "display_data"
    }
   ],
   "source": [
    "#plot each work day's proportions in show up and no show up and see the difference\n",
    "location=np.arange(0,5,2.5)\n",
    "width=0.35\n",
    "\n",
    "plt.bar(location,Mon,width,color='red',alpha=0.7,label='Monday')\n",
    "plt.bar(location+width,Tue,width,color='blue',alpha=0.7,label='Tuesday')\n",
    "plt.bar(location+width*2,Wed,width,color='Green',alpha=0.7,label='Wednesday')\n",
    "plt.bar(location+width*3,Thu,width,color='Yellow',alpha=0.7,label='Thursday')\n",
    "plt.bar(location+width*4,Fri,width,color='gray',alpha=0.7,label='Friday')\n",
    "plt.bar(location+width*5,Sat,width,color='ORANGE',alpha=0.7,label='Satarday')\n",
    "plt.title('Show up and workday of appointment')\n",
    "labellocation=location+width*5/2\n",
    "label=['Show up','No show up']\n",
    "plt.legend()\n",
    "plt.ylabel('proportion')\n",
    "\n",
    "plt.xticks(labellocation,label)\n"
   ]
  },
  {
   "cell_type": "markdown",
   "metadata": {},
   "source": [
    "## Conclusion for question 4\n",
    "The work day of the appointment is related to show up. Friday and Saturday’s appointments has less show up compared with other work days."
   ]
  },
  {
   "cell_type": "markdown",
   "metadata": {},
   "source": [
    "<a id='conclusions'></a>\n",
    "## Conclusions"
   ]
  },
  {
   "cell_type": "markdown",
   "metadata": {
    "collapsed": true
   },
   "source": [
    "1. A patient' age is correlated to his/her show up performance for medical appointments. Show up group's patients' average age is older than no show up group. \n",
    "\n",
    "2. Show up group's patients' average interval between the day they schedule appointments and appointment day is less than no show up group. \n",
    "\n",
    "3. Same proportion of male and female show up for appointments, which means that the gender and the show up is not closely related. \n",
    "\n",
    "4. The work day of the appointment is related to show up. Friday and Saturday’s appointments has less show up compared with other work days."
   ]
  },
  {
   "cell_type": "markdown",
   "metadata": {},
   "source": [
    "## Limitations\n",
    "As stated above, the Appointment days only have a span of 40 day, scheduled days have a span of 211 days and also only 80+ neighborhood were studied, whatever conclusions might hold true for this narrow time period, but applying them to a general pictures is risky."
   ]
  },
  {
   "cell_type": "markdown",
   "metadata": {},
   "source": [
    "Reference:N/A"
   ]
  },
  {
   "cell_type": "code",
   "execution_count": 618,
   "metadata": {},
   "outputs": [
    {
     "data": {
      "text/plain": [
       "0"
      ]
     },
     "execution_count": 618,
     "metadata": {},
     "output_type": "execute_result"
    }
   ],
   "source": [
    "from subprocess import call\n",
    "call(['python', '-m', 'nbconvert', 'Investigate_a_Dataset.ipynb'])"
   ]
  },
  {
   "cell_type": "code",
   "execution_count": null,
   "metadata": {},
   "outputs": [],
   "source": []
  }
 ],
 "metadata": {
  "kernelspec": {
   "display_name": "Python 3",
   "language": "python",
   "name": "python3"
  },
  "language_info": {
   "codemirror_mode": {
    "name": "ipython",
    "version": 3
   },
   "file_extension": ".py",
   "mimetype": "text/x-python",
   "name": "python",
   "nbconvert_exporter": "python",
   "pygments_lexer": "ipython3",
   "version": "3.6.3"
  }
 },
 "nbformat": 4,
 "nbformat_minor": 2
}
